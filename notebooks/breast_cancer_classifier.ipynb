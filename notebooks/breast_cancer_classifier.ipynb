{
 "cells": [
  {
   "cell_type": "code",
   "execution_count": 2,
   "metadata": {},
   "outputs": [
    {
     "name": "stdout",
     "output_type": "stream",
     "text": [
      "Dataset URL: https://www.kaggle.com/datasets/ambarish/breakhis\n",
      "License(s): unknown\n",
      "Downloading breakhis.zip to ../data/breakhis\n"
     ]
    },
    {
     "name": "stderr",
     "output_type": "stream",
     "text": [
      "100%|██████████| 3.99G/3.99G [00:04<00:00, 950MB/s] \n"
     ]
    },
    {
     "name": "stdout",
     "output_type": "stream",
     "text": [
      "\n"
     ]
    },
    {
     "data": {
      "text/plain": [
       "CompletedProcess(args=['kaggle', 'datasets', 'download', '-d', 'ambarish/breakhis', '-p', '../data/breakhis', '--unzip'], returncode=0)"
      ]
     },
     "execution_count": 2,
     "metadata": {},
     "output_type": "execute_result"
    }
   ],
   "source": [
    "import os\n",
    "import zipfile\n",
    "import subprocess\n",
    "import shutil\n",
    "\n",
    "# Step 1: Set Kaggle API Key location\n",
    "kaggle_json_path = os.path.expanduser(\"~/.kaggle\")\n",
    "os.makedirs(kaggle_json_path, exist_ok=True)\n",
    "\n",
    "# NOTE: Adjust this if your kaggle.json is in the notebook folder\n",
    "local_kaggle_json = \"kaggle.json\"\n",
    "\n",
    "if not os.path.exists(local_kaggle_json):\n",
    "    raise FileNotFoundError(\"⚠️ kaggle.json not found in the notebook directory!\")\n",
    "\n",
    "# Move kaggle.json to ~/.kaggle and set permissions\n",
    "shutil.copy(local_kaggle_json, os.path.join(kaggle_json_path, \"kaggle.json\"))\n",
    "os.chmod(os.path.join(kaggle_json_path, \"kaggle.json\"), 0o600)\n",
    "\n",
    "# Step 2: Create data directory\n",
    "data_path = \"../data/breakhis\"  # Going one level up from notebooks/\n",
    "os.makedirs(data_path, exist_ok=True)\n",
    "\n",
    "# Step 3: Run Kaggle CLI to download and unzip\n",
    "subprocess.run([\n",
    "    \"kaggle\", \"datasets\", \"download\",\n",
    "    \"-d\", \"ambarish/breakhis\",\n",
    "    \"-p\", data_path,\n",
    "    \"--unzip\"\n",
    "], check=True)\n"
   ]
  }
 ],
 "metadata": {
  "kernelspec": {
   "display_name": "venv",
   "language": "python",
   "name": "python3"
  },
  "language_info": {
   "codemirror_mode": {
    "name": "ipython",
    "version": 3
   },
   "file_extension": ".py",
   "mimetype": "text/x-python",
   "name": "python",
   "nbconvert_exporter": "python",
   "pygments_lexer": "ipython3",
   "version": "3.10.13"
  },
  "orig_nbformat": 4
 },
 "nbformat": 4,
 "nbformat_minor": 2
}
